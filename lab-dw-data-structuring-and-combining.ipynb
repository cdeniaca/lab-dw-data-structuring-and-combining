{
 "cells": [
  {
   "cell_type": "markdown",
   "id": "25d7736c-ba17-4aff-b6bb-66eba20fbf4e",
   "metadata": {
    "id": "25d7736c-ba17-4aff-b6bb-66eba20fbf4e"
   },
   "source": [
    "# Lab | Data Structuring and Combining Data"
   ]
  },
  {
   "cell_type": "markdown",
   "id": "a2cdfc70-44c8-478c-81e7-2bc43fdf4986",
   "metadata": {
    "id": "a2cdfc70-44c8-478c-81e7-2bc43fdf4986"
   },
   "source": [
    "## Challenge 1: Combining & Cleaning Data\n",
    "\n",
    "In this challenge, we will be working with the customer data from an insurance company, as we did in the two previous labs. The data can be found here:\n",
    "- https://raw.githubusercontent.com/data-bootcamp-v4/data/main/file1.csv\n",
    "\n",
    "But this time, we got new data, which can be found in the following 2 CSV files located at the links below.\n",
    "\n",
    "- https://raw.githubusercontent.com/data-bootcamp-v4/data/main/file2.csv\n",
    "- https://raw.githubusercontent.com/data-bootcamp-v4/data/main/file3.csv\n",
    "\n",
    "Note that you'll need to clean and format the new data.\n",
    "\n",
    "Observation:\n",
    "- One option is to first combine the three datasets and then apply the cleaning function to the new combined dataset\n",
    "- Another option would be to read the clean file you saved in the previous lab, and just clean the two new files and concatenate the three clean datasets"
   ]
  },
  {
   "cell_type": "code",
   "execution_count": 9,
   "id": "7961402d",
   "metadata": {},
   "outputs": [],
   "source": [
    "import pandas as pd"
   ]
  },
  {
   "cell_type": "code",
   "execution_count": 10,
   "id": "2fa97c61",
   "metadata": {},
   "outputs": [],
   "source": [
    "# Your code goes here\n",
    "\n",
    "url1 = 'https://raw.githubusercontent.com/data-bootcamp-v4/data/main/file1.csv'\n",
    "url2 = 'https://raw.githubusercontent.com/data-bootcamp-v4/data/main/file2.csv'\n",
    "url3 = 'https://raw.githubusercontent.com/data-bootcamp-v4/data/main/file3.csv'\n",
    "\n",
    "data1 = pd.read_csv(url1)\n",
    "data2 = pd.read_csv(url2)\n",
    "data3 = pd.read_csv(url3)"
   ]
  },
  {
   "cell_type": "code",
   "execution_count": 11,
   "id": "6e604346",
   "metadata": {},
   "outputs": [],
   "source": [
    "def clean_data(df):\n",
    "    # Standardize column names (make lowercase and replace spaces with underscores)\n",
    "    df.columns = df.columns.str.lower().str.replace(' ', '_')\n",
    "    \n",
    "    # Drop duplicates\n",
    "    df.drop_duplicates(inplace=True)\n",
    "    \n",
    "    # Remove any rows with null values (if applicable)\n",
    "    df.dropna(inplace=True)\n",
    "    \n",
    "    # Example transformation: Strip whitespace from string columns\n",
    "    str_columns = df.select_dtypes(include=['object']).columns\n",
    "    df[str_columns] = df[str_columns].apply(lambda x: x.str.strip())\n",
    "    \n",
    "    return df"
   ]
  },
  {
   "cell_type": "code",
   "execution_count": 12,
   "id": "6369c164",
   "metadata": {},
   "outputs": [],
   "source": [
    "data1_cleaned = clean_data(data1)\n",
    "data2_cleaned = clean_data(data2)\n",
    "data3_cleaned = clean_data(data3)"
   ]
  },
  {
   "cell_type": "code",
   "execution_count": 13,
   "id": "18816b6f",
   "metadata": {},
   "outputs": [],
   "source": [
    "combined_data = pd.concat([data1_cleaned, data2_cleaned, data3_cleaned], ignore_index=True)"
   ]
  },
  {
   "cell_type": "code",
   "execution_count": 14,
   "id": "492d06e3-92c7-4105-ac72-536db98d3244",
   "metadata": {
    "id": "492d06e3-92c7-4105-ac72-536db98d3244"
   },
   "outputs": [
    {
     "name": "stdout",
     "output_type": "stream",
     "text": [
      "<class 'pandas.core.frame.DataFrame'>\n",
      "RangeIndex: 9010 entries, 0 to 9009\n",
      "Data columns (total 12 columns):\n",
      " #   Column                     Non-Null Count  Dtype  \n",
      "---  ------                     --------------  -----  \n",
      " 0   customer                   9010 non-null   object \n",
      " 1   st                         1940 non-null   object \n",
      " 2   gender                     9010 non-null   object \n",
      " 3   education                  9010 non-null   object \n",
      " 4   customer_lifetime_value    9010 non-null   object \n",
      " 5   income                     9010 non-null   float64\n",
      " 6   monthly_premium_auto       9010 non-null   float64\n",
      " 7   number_of_open_complaints  9010 non-null   object \n",
      " 8   policy_type                9010 non-null   object \n",
      " 9   vehicle_class              9010 non-null   object \n",
      " 10  total_claim_amount         9010 non-null   float64\n",
      " 11  state                      7070 non-null   object \n",
      "dtypes: float64(3), object(9)\n",
      "memory usage: 844.8+ KB\n",
      "None\n",
      "  customer          st gender             education customer_lifetime_value  \\\n",
      "0  QZ44356     Arizona      F              Bachelor              697953.59%   \n",
      "1  AI49188      Nevada      F              Bachelor             1288743.17%   \n",
      "2  WW63253  California      M              Bachelor              764586.18%   \n",
      "3  GA49547  Washington      M  High School or Below              536307.65%   \n",
      "4  OC83172      Oregon      F              Bachelor              825629.78%   \n",
      "\n",
      "    income  monthly_premium_auto number_of_open_complaints     policy_type  \\\n",
      "0      0.0                  94.0                    1/0/00   Personal Auto   \n",
      "1  48767.0                 108.0                    1/0/00   Personal Auto   \n",
      "2      0.0                 106.0                    1/0/00  Corporate Auto   \n",
      "3  36357.0                  68.0                    1/0/00   Personal Auto   \n",
      "4  62902.0                  69.0                    1/0/00   Personal Auto   \n",
      "\n",
      "   vehicle_class  total_claim_amount state  \n",
      "0  Four-Door Car         1131.464935   NaN  \n",
      "1   Two-Door Car          566.472247   NaN  \n",
      "2            SUV          529.881344   NaN  \n",
      "3  Four-Door Car           17.269323   NaN  \n",
      "4   Two-Door Car          159.383042   NaN  \n"
     ]
    }
   ],
   "source": [
    "print(combined_data.info())\n",
    "print(combined_data.head())\n"
   ]
  },
  {
   "cell_type": "markdown",
   "id": "31b8a9e7-7db9-4604-991b-ef6771603e57",
   "metadata": {
    "id": "31b8a9e7-7db9-4604-991b-ef6771603e57"
   },
   "source": [
    "# Challenge 2: Structuring Data"
   ]
  },
  {
   "cell_type": "markdown",
   "id": "a877fd6d-7a0c-46d2-9657-f25036e4ca4b",
   "metadata": {
    "id": "a877fd6d-7a0c-46d2-9657-f25036e4ca4b"
   },
   "source": [
    "In this challenge, we will continue to work with customer data from an insurance company, but we will use a dataset with more columns, called marketing_customer_analysis.csv, which can be found at the following link:\n",
    "\n",
    "https://raw.githubusercontent.com/data-bootcamp-v4/data/main/marketing_customer_analysis_clean.csv\n",
    "\n",
    "This dataset contains information such as customer demographics, policy details, vehicle information, and the customer's response to the last marketing campaign. Our goal is to explore and analyze this data by performing data cleaning, formatting, and structuring."
   ]
  },
  {
   "cell_type": "code",
   "execution_count": 17,
   "id": "aa10d9b0-1c27-4d3f-a8e4-db6ab73bfd26",
   "metadata": {
    "id": "aa10d9b0-1c27-4d3f-a8e4-db6ab73bfd26"
   },
   "outputs": [],
   "source": [
    "# Your code goes here\n",
    "url = 'https://raw.githubusercontent.com/data-bootcamp-v4/data/main/marketing_customer_analysis_clean.csv'\n",
    "data = pd.read_csv(url)\n"
   ]
  },
  {
   "cell_type": "code",
   "execution_count": 18,
   "id": "3aef1cb9",
   "metadata": {},
   "outputs": [
    {
     "name": "stdout",
     "output_type": "stream",
     "text": [
      "First 5 rows of the dataset:\n",
      "   unnamed:_0 customer       state  customer_lifetime_value response  \\\n",
      "0           0  DK49336     Arizona              4809.216960       No   \n",
      "1           1  KX64629  California              2228.525238       No   \n",
      "2           2  LZ68649  Washington             14947.917300       No   \n",
      "3           3  XL78013      Oregon             22332.439460      Yes   \n",
      "4           4  QA50777      Oregon              9025.067525       No   \n",
      "\n",
      "   coverage education effective_to_date employmentstatus gender  ...  \\\n",
      "0     Basic   College        2011-02-18         Employed      M  ...   \n",
      "1     Basic   College        2011-01-18       Unemployed      F  ...   \n",
      "2     Basic  Bachelor        2011-02-10         Employed      M  ...   \n",
      "3  Extended   College        2011-01-11         Employed      M  ...   \n",
      "4   Premium  Bachelor        2011-01-17    Medical Leave      F  ...   \n",
      "\n",
      "   number_of_policies     policy_type        policy  renew_offer_type  \\\n",
      "0                   9  Corporate Auto  Corporate L3            Offer3   \n",
      "1                   1   Personal Auto   Personal L3            Offer4   \n",
      "2                   2   Personal Auto   Personal L3            Offer3   \n",
      "3                   2  Corporate Auto  Corporate L3            Offer2   \n",
      "4                   7   Personal Auto   Personal L2            Offer1   \n",
      "\n",
      "   sales_channel  total_claim_amount  vehicle_class  vehicle_size  \\\n",
      "0          Agent          292.800000  Four-Door Car       Medsize   \n",
      "1    Call Center          744.924331  Four-Door Car       Medsize   \n",
      "2    Call Center          480.000000            SUV       Medsize   \n",
      "3         Branch          484.013411  Four-Door Car       Medsize   \n",
      "4         Branch          707.925645  Four-Door Car       Medsize   \n",
      "\n",
      "  vehicle_type month  \n",
      "0            A     2  \n",
      "1            A     1  \n",
      "2            A     2  \n",
      "3            A     1  \n",
      "4            A     1  \n",
      "\n",
      "[5 rows x 27 columns]\n",
      "\n",
      "DataFrame info:\n",
      "<class 'pandas.core.frame.DataFrame'>\n",
      "RangeIndex: 10910 entries, 0 to 10909\n",
      "Data columns (total 27 columns):\n",
      " #   Column                         Non-Null Count  Dtype  \n",
      "---  ------                         --------------  -----  \n",
      " 0   unnamed:_0                     10910 non-null  int64  \n",
      " 1   customer                       10910 non-null  object \n",
      " 2   state                          10910 non-null  object \n",
      " 3   customer_lifetime_value        10910 non-null  float64\n",
      " 4   response                       10910 non-null  object \n",
      " 5   coverage                       10910 non-null  object \n",
      " 6   education                      10910 non-null  object \n",
      " 7   effective_to_date              10910 non-null  object \n",
      " 8   employmentstatus               10910 non-null  object \n",
      " 9   gender                         10910 non-null  object \n",
      " 10  income                         10910 non-null  int64  \n",
      " 11  location_code                  10910 non-null  object \n",
      " 12  marital_status                 10910 non-null  object \n",
      " 13  monthly_premium_auto           10910 non-null  int64  \n",
      " 14  months_since_last_claim        10910 non-null  float64\n",
      " 15  months_since_policy_inception  10910 non-null  int64  \n",
      " 16  number_of_open_complaints      10910 non-null  float64\n",
      " 17  number_of_policies             10910 non-null  int64  \n",
      " 18  policy_type                    10910 non-null  object \n",
      " 19  policy                         10910 non-null  object \n",
      " 20  renew_offer_type               10910 non-null  object \n",
      " 21  sales_channel                  10910 non-null  object \n",
      " 22  total_claim_amount             10910 non-null  float64\n",
      " 23  vehicle_class                  10910 non-null  object \n",
      " 24  vehicle_size                   10910 non-null  object \n",
      " 25  vehicle_type                   10910 non-null  object \n",
      " 26  month                          10910 non-null  int64  \n",
      "dtypes: float64(4), int64(6), object(17)\n",
      "memory usage: 2.2+ MB\n",
      "None\n",
      "\n",
      "Statistical summary:\n",
      "          unnamed:_0 customer       state  customer_lifetime_value response  \\\n",
      "count   10910.000000    10910       10910             10910.000000    10910   \n",
      "unique           NaN     9134           5                      NaN        2   \n",
      "top              NaN  ID89933  California                      NaN       No   \n",
      "freq             NaN        7        4183                      NaN     9444   \n",
      "mean     5454.500000      NaN         NaN              8018.241094      NaN   \n",
      "std      3149.590053      NaN         NaN              6885.081434      NaN   \n",
      "min         0.000000      NaN         NaN              1898.007675      NaN   \n",
      "25%      2727.250000      NaN         NaN              4014.453113      NaN   \n",
      "50%      5454.500000      NaN         NaN              5771.147235      NaN   \n",
      "75%      8181.750000      NaN         NaN              8992.779137      NaN   \n",
      "max     10909.000000      NaN         NaN             83325.381190      NaN   \n",
      "\n",
      "       coverage education effective_to_date employmentstatus gender  ...  \\\n",
      "count     10910     10910             10910            10910  10910  ...   \n",
      "unique        3         5                59                5      2  ...   \n",
      "top       Basic  Bachelor        2011-01-27         Employed      F  ...   \n",
      "freq       6660      3272               239             6789   5573  ...   \n",
      "mean        NaN       NaN               NaN              NaN    NaN  ...   \n",
      "std         NaN       NaN               NaN              NaN    NaN  ...   \n",
      "min         NaN       NaN               NaN              NaN    NaN  ...   \n",
      "25%         NaN       NaN               NaN              NaN    NaN  ...   \n",
      "50%         NaN       NaN               NaN              NaN    NaN  ...   \n",
      "75%         NaN       NaN               NaN              NaN    NaN  ...   \n",
      "max         NaN       NaN               NaN              NaN    NaN  ...   \n",
      "\n",
      "        number_of_policies    policy_type       policy  renew_offer_type  \\\n",
      "count         10910.000000          10910        10910             10910   \n",
      "unique                 NaN              3            9                 4   \n",
      "top                    NaN  Personal Auto  Personal L3            Offer1   \n",
      "freq                   NaN           8128         4118              4483   \n",
      "mean              2.979193            NaN          NaN               NaN   \n",
      "std               2.399359            NaN          NaN               NaN   \n",
      "min               1.000000            NaN          NaN               NaN   \n",
      "25%               1.000000            NaN          NaN               NaN   \n",
      "50%               2.000000            NaN          NaN               NaN   \n",
      "75%               4.000000            NaN          NaN               NaN   \n",
      "max               9.000000            NaN          NaN               NaN   \n",
      "\n",
      "        sales_channel  total_claim_amount  vehicle_class  vehicle_size  \\\n",
      "count           10910        10910.000000          10910         10910   \n",
      "unique              4                 NaN              6             3   \n",
      "top             Agent                 NaN  Four-Door Car       Medsize   \n",
      "freq             4121                 NaN           5834          7873   \n",
      "mean              NaN          434.888330            NaN           NaN   \n",
      "std               NaN          292.180556            NaN           NaN   \n",
      "min               NaN            0.099007            NaN           NaN   \n",
      "25%               NaN          271.082527            NaN           NaN   \n",
      "50%               NaN          382.564630            NaN           NaN   \n",
      "75%               NaN          547.200000            NaN           NaN   \n",
      "max               NaN         2893.239678            NaN           NaN   \n",
      "\n",
      "       vehicle_type         month  \n",
      "count         10910  10910.000000  \n",
      "unique            1           NaN  \n",
      "top               A           NaN  \n",
      "freq          10910           NaN  \n",
      "mean            NaN      1.466728  \n",
      "std             NaN      0.498915  \n",
      "min             NaN      1.000000  \n",
      "25%             NaN      1.000000  \n",
      "50%             NaN      1.000000  \n",
      "75%             NaN      2.000000  \n",
      "max             NaN      2.000000  \n",
      "\n",
      "[11 rows x 27 columns]\n"
     ]
    }
   ],
   "source": [
    "print(\"First 5 rows of the dataset:\")\n",
    "print(data.head())  # Display the first 5 rows\n",
    "print(\"\\nDataFrame info:\")\n",
    "print(data.info())  # Display info about the DataFrame\n",
    "print(\"\\nStatistical summary:\")\n",
    "print(data.describe(include='all'))  # Display statistical summary for all columns"
   ]
  },
  {
   "cell_type": "code",
   "execution_count": 19,
   "id": "e2d33439",
   "metadata": {},
   "outputs": [
    {
     "name": "stdout",
     "output_type": "stream",
     "text": [
      "\n",
      "Number of duplicate rows: 0\n"
     ]
    }
   ],
   "source": [
    "duplicates = data.duplicated().sum()\n",
    "print(f\"\\nNumber of duplicate rows: {duplicates}\")"
   ]
  },
  {
   "cell_type": "code",
   "execution_count": 20,
   "id": "611b8d49",
   "metadata": {},
   "outputs": [],
   "source": [
    "if duplicates > 0:\n",
    "    data.drop_duplicates(inplace=True)"
   ]
  },
  {
   "cell_type": "code",
   "execution_count": 21,
   "id": "0ee2475a",
   "metadata": {},
   "outputs": [
    {
     "name": "stdout",
     "output_type": "stream",
     "text": [
      "\n",
      "Missing values in each column:\n",
      "Series([], dtype: int64)\n"
     ]
    }
   ],
   "source": [
    "missing_values = data.isnull().sum()\n",
    "print(\"\\nMissing values in each column:\")\n",
    "print(missing_values[missing_values > 0])"
   ]
  },
  {
   "cell_type": "code",
   "execution_count": 22,
   "id": "d67b9eeb",
   "metadata": {},
   "outputs": [],
   "source": [
    "data.dropna(inplace=True)"
   ]
  },
  {
   "cell_type": "code",
   "execution_count": 23,
   "id": "292cb381",
   "metadata": {},
   "outputs": [],
   "source": [
    "if 'policy_start_date' in data.columns:\n",
    "    data['policy_start_date'] = pd.to_datetime(data['policy_start_date'], errors='coerce')"
   ]
  },
  {
   "cell_type": "code",
   "execution_count": 24,
   "id": "5290cab6",
   "metadata": {},
   "outputs": [],
   "source": [
    "categorical_columns = data.select_dtypes(include=['object']).columns\n",
    "data[categorical_columns] = data[categorical_columns].astype('category')"
   ]
  },
  {
   "cell_type": "code",
   "execution_count": 25,
   "id": "47fdef2a",
   "metadata": {},
   "outputs": [],
   "source": [
    "data.columns = data.columns.str.lower().str.replace(' ', '_')"
   ]
  },
  {
   "cell_type": "code",
   "execution_count": 26,
   "id": "9f374a48",
   "metadata": {},
   "outputs": [
    {
     "name": "stdout",
     "output_type": "stream",
     "text": [
      "\n",
      "Final DataFrame info:\n",
      "<class 'pandas.core.frame.DataFrame'>\n",
      "RangeIndex: 10910 entries, 0 to 10909\n",
      "Data columns (total 27 columns):\n",
      " #   Column                         Non-Null Count  Dtype   \n",
      "---  ------                         --------------  -----   \n",
      " 0   unnamed:_0                     10910 non-null  int64   \n",
      " 1   customer                       10910 non-null  category\n",
      " 2   state                          10910 non-null  category\n",
      " 3   customer_lifetime_value        10910 non-null  float64 \n",
      " 4   response                       10910 non-null  category\n",
      " 5   coverage                       10910 non-null  category\n",
      " 6   education                      10910 non-null  category\n",
      " 7   effective_to_date              10910 non-null  category\n",
      " 8   employmentstatus               10910 non-null  category\n",
      " 9   gender                         10910 non-null  category\n",
      " 10  income                         10910 non-null  int64   \n",
      " 11  location_code                  10910 non-null  category\n",
      " 12  marital_status                 10910 non-null  category\n",
      " 13  monthly_premium_auto           10910 non-null  int64   \n",
      " 14  months_since_last_claim        10910 non-null  float64 \n",
      " 15  months_since_policy_inception  10910 non-null  int64   \n",
      " 16  number_of_open_complaints      10910 non-null  float64 \n",
      " 17  number_of_policies             10910 non-null  int64   \n",
      " 18  policy_type                    10910 non-null  category\n",
      " 19  policy                         10910 non-null  category\n",
      " 20  renew_offer_type               10910 non-null  category\n",
      " 21  sales_channel                  10910 non-null  category\n",
      " 22  total_claim_amount             10910 non-null  float64 \n",
      " 23  vehicle_class                  10910 non-null  category\n",
      " 24  vehicle_size                   10910 non-null  category\n",
      " 25  vehicle_type                   10910 non-null  category\n",
      " 26  month                          10910 non-null  int64   \n",
      "dtypes: category(17), float64(4), int64(6)\n",
      "memory usage: 1.3 MB\n",
      "None\n",
      "\n",
      "First 5 rows of the cleaned and structured dataset:\n",
      "   unnamed:_0 customer       state  customer_lifetime_value response  \\\n",
      "0           0  DK49336     Arizona              4809.216960       No   \n",
      "1           1  KX64629  California              2228.525238       No   \n",
      "2           2  LZ68649  Washington             14947.917300       No   \n",
      "3           3  XL78013      Oregon             22332.439460      Yes   \n",
      "4           4  QA50777      Oregon              9025.067525       No   \n",
      "\n",
      "   coverage education effective_to_date employmentstatus gender  ...  \\\n",
      "0     Basic   College        2011-02-18         Employed      M  ...   \n",
      "1     Basic   College        2011-01-18       Unemployed      F  ...   \n",
      "2     Basic  Bachelor        2011-02-10         Employed      M  ...   \n",
      "3  Extended   College        2011-01-11         Employed      M  ...   \n",
      "4   Premium  Bachelor        2011-01-17    Medical Leave      F  ...   \n",
      "\n",
      "   number_of_policies     policy_type        policy  renew_offer_type  \\\n",
      "0                   9  Corporate Auto  Corporate L3            Offer3   \n",
      "1                   1   Personal Auto   Personal L3            Offer4   \n",
      "2                   2   Personal Auto   Personal L3            Offer3   \n",
      "3                   2  Corporate Auto  Corporate L3            Offer2   \n",
      "4                   7   Personal Auto   Personal L2            Offer1   \n",
      "\n",
      "   sales_channel  total_claim_amount  vehicle_class  vehicle_size  \\\n",
      "0          Agent          292.800000  Four-Door Car       Medsize   \n",
      "1    Call Center          744.924331  Four-Door Car       Medsize   \n",
      "2    Call Center          480.000000            SUV       Medsize   \n",
      "3         Branch          484.013411  Four-Door Car       Medsize   \n",
      "4         Branch          707.925645  Four-Door Car       Medsize   \n",
      "\n",
      "  vehicle_type month  \n",
      "0            A     2  \n",
      "1            A     1  \n",
      "2            A     2  \n",
      "3            A     1  \n",
      "4            A     1  \n",
      "\n",
      "[5 rows x 27 columns]\n"
     ]
    }
   ],
   "source": [
    "print(\"\\nFinal DataFrame info:\")\n",
    "print(data.info())\n",
    "print(\"\\nFirst 5 rows of the cleaned and structured dataset:\")\n",
    "print(data.head())\n"
   ]
  },
  {
   "cell_type": "markdown",
   "id": "df35fd0d-513e-4e77-867e-429da10a9cc7",
   "metadata": {
    "id": "df35fd0d-513e-4e77-867e-429da10a9cc7"
   },
   "source": [
    "1. You work at the marketing department and you want to know which sales channel brought the most sales in terms of total revenue. Using pivot, create a summary table showing the total revenue for each sales channel (branch, call center, web, and mail).\n",
    "Round the total revenue to 2 decimal points.  Analyze the resulting table to draw insights."
   ]
  },
  {
   "cell_type": "code",
   "execution_count": 38,
   "id": "22e01525",
   "metadata": {},
   "outputs": [],
   "source": [
    "import pandas as pd\n",
    "\n",
    "url = 'https://raw.githubusercontent.com/data-bootcamp-v4/data/main/marketing_customer_analysis_clean.csv'\n",
    "data = pd.read_csv(url)\n"
   ]
  },
  {
   "cell_type": "code",
   "execution_count": 39,
   "id": "eb8c2b47",
   "metadata": {},
   "outputs": [],
   "source": [
    "total_revenue_by_channel = data.pivot_table(\n",
    "    index='sales_channel', \n",
    "    values='monthly_premium_auto',  # Using the monthly premium as total revenue\n",
    "    aggfunc='sum'\n",
    ").round(2)"
   ]
  },
  {
   "cell_type": "code",
   "execution_count": 40,
   "id": "133ee359",
   "metadata": {},
   "outputs": [
    {
     "name": "stdout",
     "output_type": "stream",
     "text": [
      "Total Revenue by Sales Channel:\n",
      "               monthly_premium_auto\n",
      "sales_channel                      \n",
      "Agent                        386335\n",
      "Branch                       280953\n",
      "Call Center                  197970\n",
      "Web                          151511\n"
     ]
    }
   ],
   "source": [
    "print(\"Total Revenue by Sales Channel:\")\n",
    "print(total_revenue_by_channel)\n"
   ]
  },
  {
   "cell_type": "markdown",
   "id": "640993b2-a291-436c-a34d-a551144f8196",
   "metadata": {
    "id": "640993b2-a291-436c-a34d-a551144f8196"
   },
   "source": [
    "2. Create a pivot table that shows the average customer lifetime value per gender and education level. Analyze the resulting table to draw insights."
   ]
  },
  {
   "cell_type": "code",
   "execution_count": 36,
   "id": "324cae5c",
   "metadata": {},
   "outputs": [
    {
     "name": "stdout",
     "output_type": "stream",
     "text": [
      "Columns in the DataFrame:\n",
      "['unnamed:_0', 'customer', 'state', 'customer_lifetime_value', 'response', 'coverage', 'education', 'effective_to_date', 'employmentstatus', 'gender', 'income', 'location_code', 'marital_status', 'monthly_premium_auto', 'months_since_last_claim', 'months_since_policy_inception', 'number_of_open_complaints', 'number_of_policies', 'policy_type', 'policy', 'renew_offer_type', 'sales_channel', 'total_claim_amount', 'vehicle_class', 'vehicle_size', 'vehicle_type', 'month']\n"
     ]
    }
   ],
   "source": [
    "import pandas as pd\n",
    "\n",
    "url = 'https://raw.githubusercontent.com/data-bootcamp-v4/data/main/marketing_customer_analysis_clean.csv'\n",
    "data = pd.read_csv(url)\n",
    "\n",
    "\n",
    "print(\"Columns in the DataFrame:\")\n",
    "print(data.columns.tolist())\n"
   ]
  },
  {
   "cell_type": "code",
   "execution_count": 37,
   "id": "788a4353",
   "metadata": {},
   "outputs": [
    {
     "name": "stdout",
     "output_type": "stream",
     "text": [
      "Total Revenue by Sales Channel:\n",
      "               monthly_premium_auto\n",
      "sales_channel                      \n",
      "Agent                        386335\n",
      "Branch                       280953\n",
      "Call Center                  197970\n",
      "Web                          151511\n"
     ]
    }
   ],
   "source": [
    "total_revenue_by_channel = data.pivot_table(\n",
    "    index='sales_channel', \n",
    "    values='monthly_premium_auto',  \n",
    "    aggfunc='sum'\n",
    ").round(2)\n",
    "\n",
    "\n",
    "print(\"Total Revenue by Sales Channel:\")\n",
    "print(total_revenue_by_channel)\n"
   ]
  },
  {
   "cell_type": "markdown",
   "id": "32c7f2e5-3d90-43e5-be33-9781b6069198",
   "metadata": {
    "id": "32c7f2e5-3d90-43e5-be33-9781b6069198"
   },
   "source": [
    "## Bonus\n",
    "\n",
    "You work at the customer service department and you want to know which months had the highest number of complaints by policy type category. Create a summary table showing the number of complaints by policy type and month.\n",
    "Show it in a long format table."
   ]
  },
  {
   "cell_type": "markdown",
   "id": "e3d09a8f-953c-448a-a5f8-2e5a8cca7291",
   "metadata": {
    "id": "e3d09a8f-953c-448a-a5f8-2e5a8cca7291"
   },
   "source": [
    "*In data analysis, a long format table is a way of structuring data in which each observation or measurement is stored in a separate row of the table. The key characteristic of a long format table is that each column represents a single variable, and each row represents a single observation of that variable.*\n",
    "\n",
    "*More information about long and wide format tables here: https://www.statology.org/long-vs-wide-data/*"
   ]
  },
  {
   "cell_type": "code",
   "execution_count": 29,
   "id": "3a069e0b-b400-470e-904d-d17582191be4",
   "metadata": {
    "id": "3a069e0b-b400-470e-904d-d17582191be4"
   },
   "outputs": [],
   "source": [
    "# Your code goes here\n",
    "\n",
    "url = 'https://raw.githubusercontent.com/data-bootcamp-v4/data/main/marketing_customer_analysis_clean.csv'\n",
    "data = pd.read_csv(url)"
   ]
  },
  {
   "cell_type": "code",
   "execution_count": 31,
   "id": "48af5c28",
   "metadata": {},
   "outputs": [
    {
     "name": "stdout",
     "output_type": "stream",
     "text": [
      "Columns in the DataFrame:\n",
      "['unnamed:_0', 'customer', 'state', 'customer_lifetime_value', 'response', 'coverage', 'education', 'effective_to_date', 'employmentstatus', 'gender', 'income', 'location_code', 'marital_status', 'monthly_premium_auto', 'months_since_last_claim', 'months_since_policy_inception', 'number_of_open_complaints', 'number_of_policies', 'policy_type', 'policy', 'renew_offer_type', 'sales_channel', 'total_claim_amount', 'vehicle_class', 'vehicle_size', 'vehicle_type', 'month']\n"
     ]
    }
   ],
   "source": [
    "print(\"Columns in the DataFrame:\")\n",
    "print(data.columns.tolist())"
   ]
  },
  {
   "cell_type": "code",
   "execution_count": 32,
   "id": "63ca52c8",
   "metadata": {},
   "outputs": [],
   "source": [
    "complaints_summary = data.groupby(['policy_type', 'month']).agg({'number_of_open_complaints': 'sum'}).reset_index()\n"
   ]
  },
  {
   "cell_type": "code",
   "execution_count": 34,
   "id": "bfcc59a0",
   "metadata": {},
   "outputs": [
    {
     "name": "stdout",
     "output_type": "stream",
     "text": [
      "Number of Complaints by Policy Type and Month:\n",
      "      policy_type  month  number_of_open_complaints\n",
      "0  Corporate Auto      1                 443.434952\n",
      "1  Corporate Auto      2                 385.208135\n",
      "2   Personal Auto      1                1727.605722\n",
      "3   Personal Auto      2                1453.684441\n",
      "4    Special Auto      1                  87.074049\n",
      "5    Special Auto      2                  95.226817\n"
     ]
    }
   ],
   "source": [
    "print(\"Number of Complaints by Policy Type and Month:\")\n",
    "print(complaints_summary)"
   ]
  }
 ],
 "metadata": {
  "colab": {
   "provenance": []
  },
  "kernelspec": {
   "display_name": "Python 3",
   "language": "python",
   "name": "python3"
  },
  "language_info": {
   "codemirror_mode": {
    "name": "ipython",
    "version": 3
   },
   "file_extension": ".py",
   "mimetype": "text/x-python",
   "name": "python",
   "nbconvert_exporter": "python",
   "pygments_lexer": "ipython3",
   "version": "3.11.9"
  }
 },
 "nbformat": 4,
 "nbformat_minor": 5
}
